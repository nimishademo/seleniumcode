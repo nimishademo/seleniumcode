{
 "cells": [
  {
   "cell_type": "code",
   "execution_count": 4,
   "id": "0270ed61",
   "metadata": {},
   "outputs": [
    {
     "data": {
      "text/plain": [
       "3"
      ]
     },
     "execution_count": 4,
     "metadata": {},
     "output_type": "execute_result"
    }
   ],
   "source": [
    "\n",
    "def sum(a,b):\n",
    "    c = a+b\n",
    "    return c\n",
    "output = sum(1,2)\n",
    "output"
   ]
  },
  {
   "cell_type": "markdown",
   "id": "42746222",
   "metadata": {},
   "source": []
  },
  {
   "cell_type": "code",
   "execution_count": 6,
   "id": "3e086f84",
   "metadata": {},
   "outputs": [
    {
     "data": {
      "text/plain": [
       "7"
      ]
     },
     "execution_count": 6,
     "metadata": {},
     "output_type": "execute_result"
    }
   ],
   "source": [
    "class Test:\n",
    "    def __init__(self,x,y):\n",
    "        self.x = x\n",
    "        self.y = y\n",
    "    def  myfunc(self):\n",
    "        return self.x + self.y\n",
    "obj = Test(4,3)\n",
    "output = obj.myfunc()\n",
    "output\n"
   ]
  },
  {
   "cell_type": "code",
   "execution_count": 7,
   "id": "42b13c10",
   "metadata": {},
   "outputs": [
    {
     "data": {
      "text/plain": [
       "'Hello'"
      ]
     },
     "execution_count": 7,
     "metadata": {},
     "output_type": "execute_result"
    }
   ],
   "source": [
    "class Test:\n",
    "    def myfunc():\n",
    "        return \"Hello\"\n",
    "obj = Test\n",
    "output = obj.myfunc()\n",
    "output"
   ]
  },
  {
   "cell_type": "code",
   "execution_count": null,
   "id": "616e3a6e",
   "metadata": {},
   "outputs": [],
   "source": []
  },
  {
   "cell_type": "code",
   "execution_count": 8,
   "id": "cb4a496f",
   "metadata": {},
   "outputs": [
    {
     "data": {
      "text/plain": [
       "('Nihan', 'first')"
      ]
     },
     "execution_count": 8,
     "metadata": {},
     "output_type": "execute_result"
    }
   ],
   "source": [
    "class Student:\n",
    "    def __init__(self,name,grade):\n",
    "        self.name = name\n",
    "        self.grade = grade\n",
    "    def myfunc (self):\n",
    "        return self.name,self.grade\n",
    "obj = Student ('Nihan', 'first')\n",
    "output = obj.myfunc()\n",
    "output\n"
   ]
  },
  {
   "cell_type": "code",
   "execution_count": 9,
   "id": "1a461d26",
   "metadata": {},
   "outputs": [
    {
     "name": "stdout",
     "output_type": "stream",
     "text": [
      "1\n",
      "2\n",
      "3\n",
      "4\n",
      "5\n"
     ]
    }
   ],
   "source": [
    "list = [1,2,3,4,5]\n",
    "for i in list:\n",
    "    print (i)"
   ]
  },
  {
   "cell_type": "code",
   "execution_count": 10,
   "id": "12200671",
   "metadata": {},
   "outputs": [
    {
     "name": "stdout",
     "output_type": "stream",
     "text": [
      "1\n",
      "4\n",
      "7\n",
      "10\n",
      "13\n",
      "16\n",
      "19\n"
     ]
    }
   ],
   "source": [
    "for x in range(1,20,3):\n",
    "    print(x)"
   ]
  },
  {
   "cell_type": "code",
   "execution_count": 15,
   "id": "64a8072d",
   "metadata": {},
   "outputs": [
    {
     "name": "stdout",
     "output_type": "stream",
     "text": [
      "a\n",
      "b\n",
      "c\n"
     ]
    }
   ],
   "source": [
    "class Mylist:\n",
    "    def __init__(self, names:list):\n",
    "        self.names = names\n",
    "\n",
    "    def myfunc(self):\n",
    "        for i in self.names:\n",
    "            print(i)\n",
    "\n",
    "obj = Mylist(['a','b','c'])\n",
    "output = obj.myfunc()\n",
    "output\n",
    "\n"
   ]
  },
  {
   "cell_type": "code",
   "execution_count": 16,
   "id": "cbe3f5c1",
   "metadata": {},
   "outputs": [
    {
     "name": "stdout",
     "output_type": "stream",
     "text": [
      "1\n",
      "2\n",
      "3\n",
      "4\n"
     ]
    }
   ],
   "source": [
    "class Test:\n",
    "    def myfunc(x):\n",
    "        for i in x:\n",
    "            print(i)\n",
    "\n",
    "        \n",
    "obj = Test\n",
    "output = obj.myfunc([1,2,3,4])\n",
    "output  "
   ]
  },
  {
   "cell_type": "code",
   "execution_count": 19,
   "id": "9d4ca63a",
   "metadata": {},
   "outputs": [
    {
     "name": "stdout",
     "output_type": "stream",
     "text": [
      "15\n"
     ]
    }
   ],
   "source": [
    "list = [1,2,3,4,5]\n",
    "sum = 0\n",
    "for i in list:\n",
    "    sum = sum + i\n",
    "    \n",
    "print(sum)"
   ]
  },
  {
   "cell_type": "code",
   "execution_count": 22,
   "id": "72524f30",
   "metadata": {},
   "outputs": [],
   "source": [
    "def sum():\n",
    " lst = [1,2,3,4,5]\n",
    " total = sum(lst)\n",
    " print(total)\n",
    "\n",
    "    "
   ]
  },
  {
   "cell_type": "code",
   "execution_count": 25,
   "id": "a1062916",
   "metadata": {},
   "outputs": [
    {
     "name": "stdout",
     "output_type": "stream",
     "text": [
      "1 Number is odd\n",
      "2 Number is even\n",
      "3 Number is odd\n",
      "4 Number is even\n",
      "5 Number is odd\n",
      "6 Number is even\n",
      "7 Number is odd\n",
      "8 Number is even\n",
      "9 Number is odd\n"
     ]
    }
   ],
   "source": [
    "lst = [1,2,3,4,5,6,7,8,9]\n",
    "for i in lst:\n",
    "    if i%2 == 0:\n",
    "      print (i ,\"Number is even\")\n",
    "    else:\n",
    "       print (i ,\"Number is odd\")\n"
   ]
  },
  {
   "cell_type": "code",
   "execution_count": 33,
   "id": "daa8f0fe",
   "metadata": {},
   "outputs": [
    {
     "name": "stdout",
     "output_type": "stream",
     "text": [
      "55\n"
     ]
    }
   ],
   "source": [
    "sum = 0\n",
    "i = 1\n",
    "while i<=10:\n",
    "    sum = sum+i\n",
    "    i = i+1\n",
    "print(sum)"
   ]
  },
  {
   "cell_type": "code",
   "execution_count": 34,
   "id": "1ae100e2",
   "metadata": {},
   "outputs": [
    {
     "name": "stdout",
     "output_type": "stream",
     "text": [
      "w\n"
     ]
    }
   ],
   "source": [
    "a=1\n",
    "if a==0:\n",
    "  print(\"q\")\n",
    "elif a==1:\n",
    "   print(\"w\")\n",
    "else :\n",
    "    print (\"r\")\n",
    "\n",
    "   "
   ]
  },
  {
   "cell_type": "code",
   "execution_count": 37,
   "id": "377e8c14",
   "metadata": {},
   "outputs": [
    {
     "data": {
      "text/plain": [
       "5.2"
      ]
     },
     "execution_count": 37,
     "metadata": {},
     "output_type": "execute_result"
    }
   ],
   "source": [
    "i =5.2\n",
    "type(float(i))\n",
    "i"
   ]
  },
  {
   "cell_type": "code",
   "execution_count": 47,
   "id": "7d01c669",
   "metadata": {},
   "outputs": [
    {
     "name": "stdout",
     "output_type": "stream",
     "text": [
      "120\n"
     ]
    }
   ],
   "source": [
    "def fact(n):\n",
    "    fact = 1\n",
    "    i =1\n",
    "    for i in range (1,n+1):\n",
    "        fact = fact * i\n",
    "    return(fact)\n",
    "\n",
    "print(fact(5))\n"
   ]
  },
  {
   "cell_type": "code",
   "execution_count": 48,
   "id": "6052fc65",
   "metadata": {},
   "outputs": [
    {
     "data": {
      "text/plain": [
       "5.0"
      ]
     },
     "execution_count": 48,
     "metadata": {},
     "output_type": "execute_result"
    }
   ],
   "source": [
    "i = 5\n",
    "float(i)"
   ]
  },
  {
   "cell_type": "code",
   "execution_count": 49,
   "id": "9e8dc4df",
   "metadata": {},
   "outputs": [
    {
     "data": {
      "text/plain": [
       "12345.0"
      ]
     },
     "execution_count": 49,
     "metadata": {},
     "output_type": "execute_result"
    }
   ],
   "source": [
    "i='12345'\n",
    "float(i)\n"
   ]
  },
  {
   "cell_type": "code",
   "execution_count": 50,
   "id": "e6d8cfc7",
   "metadata": {},
   "outputs": [
    {
     "data": {
      "text/plain": [
       "'123.5'"
      ]
     },
     "execution_count": 50,
     "metadata": {},
     "output_type": "execute_result"
    }
   ],
   "source": [
    "i = 123.5\n",
    "str(i)"
   ]
  },
  {
   "cell_type": "code",
   "execution_count": 52,
   "id": "7f1457dd",
   "metadata": {},
   "outputs": [
    {
     "data": {
      "text/plain": [
       "'AHSIMIN'"
      ]
     },
     "execution_count": 52,
     "metadata": {},
     "output_type": "execute_result"
    }
   ],
   "source": [
    "def reverse(word):\n",
    "    s=word[::-1]\n",
    "    return s\n",
    "reverse('NIMISHA')"
   ]
  },
  {
   "cell_type": "code",
   "execution_count": 53,
   "id": "a7427ae7",
   "metadata": {},
   "outputs": [
    {
     "data": {
      "text/plain": [
       "(4, 3)"
      ]
     },
     "execution_count": 53,
     "metadata": {},
     "output_type": "execute_result"
    }
   ],
   "source": [
    "def vowel(word):\n",
    "    count = 0\n",
    "    vowel = ['a','e','i','o','u']\n",
    "    cons =0\n",
    "    for i in word:\n",
    "        if i in vowel:\n",
    "          count = count + 1\n",
    "        else:\n",
    "           cons = cons + 1\n",
    "    return  cons,count \n",
    "vowel(\"Nimisha\")\n",
    "\n"
   ]
  },
  {
   "cell_type": "code",
   "execution_count": 54,
   "id": "0c4d728e",
   "metadata": {},
   "outputs": [
    {
     "data": {
      "text/plain": [
       "1"
      ]
     },
     "execution_count": 54,
     "metadata": {},
     "output_type": "execute_result"
    }
   ],
   "source": [
    "def word_occurence(word,w):\n",
    "    count = 0\n",
    "    for i in word:\n",
    "        if i == w:\n",
    "            count = count + 1\n",
    "    return count\n",
    "word_occurence('Nimisha','N')"
   ]
  },
  {
   "cell_type": "code",
   "execution_count": 55,
   "id": "6c89482a",
   "metadata": {},
   "outputs": [
    {
     "data": {
      "text/plain": [
       "False"
      ]
     },
     "execution_count": 55,
     "metadata": {},
     "output_type": "execute_result"
    }
   ],
   "source": [
    "def pal(word):\n",
    "    a = word[::-1]\n",
    "    if a == word:\n",
    "        return True\n",
    "    else:\n",
    "        return False\n",
    "pal('nITIN')"
   ]
  },
  {
   "cell_type": "code",
   "execution_count": 56,
   "id": "9003990a",
   "metadata": {},
   "outputs": [
    {
     "data": {
      "text/plain": [
       "5"
      ]
     },
     "execution_count": 56,
     "metadata": {},
     "output_type": "execute_result"
    }
   ],
   "source": [
    "def max(num):\n",
    "    count = 0\n",
    "    for i in num:\n",
    "        if i > count:\n",
    "            count = count + 1\n",
    "    return count\n",
    "max([1,2,3,4,5])"
   ]
  },
  {
   "cell_type": "code",
   "execution_count": 57,
   "id": "8350448a",
   "metadata": {},
   "outputs": [
    {
     "data": {
      "text/plain": [
       "4"
      ]
     },
     "execution_count": 57,
     "metadata": {},
     "output_type": "execute_result"
    }
   ],
   "source": [
    "lst = [1,2,3,4,5]\n",
    "int(len(lst)/2)\n",
    "lst[3]"
   ]
  },
  {
   "cell_type": "code",
   "execution_count": 61,
   "id": "fdcd9158",
   "metadata": {},
   "outputs": [
    {
     "name": "stdout",
     "output_type": "stream",
     "text": [
      "1\n",
      "2\n",
      "3\n",
      "4\n",
      "5\n",
      "6\n",
      "7\n",
      "8\n",
      "9\n",
      "10\n"
     ]
    }
   ],
   "source": [
    "def num():\n",
    "    for i in range (1,11):\n",
    "        print(i)\n",
    "num()"
   ]
  },
  {
   "cell_type": "code",
   "execution_count": 62,
   "id": "41c69795",
   "metadata": {},
   "outputs": [
    {
     "data": {
      "text/plain": [
       "[1, 2, 3, 4]"
      ]
     },
     "execution_count": 62,
     "metadata": {},
     "output_type": "execute_result"
    }
   ],
   "source": [
    "list1 = [1,2]\n",
    "list2 = [3,4]\n",
    "list1.extend(list2)\n",
    "list1"
   ]
  },
  {
   "cell_type": "code",
   "execution_count": 63,
   "id": "7a277609",
   "metadata": {},
   "outputs": [
    {
     "data": {
      "text/plain": [
       "[1, 2, 3, 4, 5, 'nimisha']"
      ]
     },
     "execution_count": 63,
     "metadata": {},
     "output_type": "execute_result"
    }
   ],
   "source": [
    "ele = [1,2,3,4,5]\n",
    "ele1 = 'nimisha'\n",
    "ele.append(ele1)\n",
    "ele"
   ]
  },
  {
   "cell_type": "code",
   "execution_count": 64,
   "id": "70dd77f1",
   "metadata": {},
   "outputs": [
    {
     "name": "stdout",
     "output_type": "stream",
     "text": [
      "2\n"
     ]
    }
   ],
   "source": [
    "lst = \"pro gra m\"\n",
    "print(lst.count((\" \")))\n",
    "    \n"
   ]
  },
  {
   "cell_type": "code",
   "execution_count": null,
   "id": "e3d3e3f0",
   "metadata": {},
   "outputs": [],
   "source": [
    "movies = []\n",
    "mov1 = input('enter the name of the movie')\n",
    "mov2 = input('enter the name of 2nd movie')\n",
    "mov3 = input('enter the name of 3rd movie')\n",
    "movies.append(mov1)\n",
    "movies.append(mov2)\n",
    "movies.append(mov3) \n",
    "print(movies)\n"
   ]
  },
  {
   "cell_type": "code",
   "execution_count": null,
   "id": "c4ff8a0c",
   "metadata": {},
   "outputs": [],
   "source": [
    "list = [1,2,3]\n",
    "copylist = list.copy()\n",
    "\n",
    "if list == copylist:\n",
    "    print (\"yes\")\n",
    "else:\n",
    "    print (\"NO\")\n"
   ]
  },
  {
   "cell_type": "code",
   "execution_count": 2,
   "id": "67f95e05",
   "metadata": {},
   "outputs": [
    {
     "name": "stdout",
     "output_type": "stream",
     "text": [
      "dict_values([1, 2, 3])\n",
      "dict_keys(['a', 'b', 'c'])\n",
      "dict_items([('a', 1), ('b', 2), ('c', 3)])\n",
      "{'a': 1, 'b': 2, 'c': 3, 'd': 4}\n"
     ]
    }
   ],
   "source": [
    "dict = {'a':1,'b':2,'c':3}\n",
    "print(dict.values())\n",
    "print(dict.keys())\n",
    "print(dict.items())\n",
    "dict.update({'d':4})\n",
    "print(dict)\n",
    "\n"
   ]
  },
  {
   "cell_type": "code",
   "execution_count": 4,
   "id": "f458c578",
   "metadata": {},
   "outputs": [
    {
     "name": "stdout",
     "output_type": "stream",
     "text": [
      "{1, 2, 3, 4, 5, 'name', 'hello'}\n",
      "<class 'set'>\n"
     ]
    }
   ],
   "source": [
    "collec = {1,2,3,4,5,\"hello\",\"name\"}\n",
    "print(collec)\n",
    "print(type(collec))"
   ]
  },
  {
   "cell_type": "code",
   "execution_count": 7,
   "id": "3cb747f3",
   "metadata": {},
   "outputs": [
    {
     "name": "stdout",
     "output_type": "stream",
     "text": [
      "<class 'set'>\n"
     ]
    }
   ],
   "source": [
    "collec = set()\n",
    "print(type(collec))"
   ]
  },
  {
   "cell_type": "code",
   "execution_count": 8,
   "id": "5e087fea",
   "metadata": {},
   "outputs": [
    {
     "name": "stdout",
     "output_type": "stream",
     "text": [
      "<class 'dict'>\n"
     ]
    }
   ],
   "source": [
    "collec = {}\n",
    "print(type(collec))"
   ]
  },
  {
   "cell_type": "code",
   "execution_count": 9,
   "id": "a3dae258",
   "metadata": {},
   "outputs": [
    {
     "name": "stdout",
     "output_type": "stream",
     "text": [
      "<class 'list'>\n"
     ]
    }
   ],
   "source": [
    "collec = []\n",
    "print(type(collec))"
   ]
  },
  {
   "cell_type": "code",
   "execution_count": 10,
   "id": "232309bf",
   "metadata": {},
   "outputs": [
    {
     "name": "stdout",
     "output_type": "stream",
     "text": [
      "{1, 2, 3, 4, 5, 6}\n"
     ]
    }
   ],
   "source": [
    "set1 = {1,2,3}\n",
    "set2 = {4,5,6,1}\n",
    "print(set1.union(set2))"
   ]
  },
  {
   "cell_type": "code",
   "execution_count": 11,
   "id": "0db47590",
   "metadata": {},
   "outputs": [
    {
     "name": "stdout",
     "output_type": "stream",
     "text": [
      "{'a': 1, 'b': [11, 22]}\n"
     ]
    }
   ],
   "source": [
    "dict ={\n",
    "    'a':1 ,\n",
    "    'b': [11,22]\n",
    "}\n",
    "print(dict)"
   ]
  },
  {
   "cell_type": "code",
   "execution_count": 12,
   "id": "643a77d6",
   "metadata": {},
   "outputs": [
    {
     "name": "stdout",
     "output_type": "stream",
     "text": [
      "1\n",
      "2\n",
      "3\n",
      "4\n",
      "5\n",
      "6\n",
      "7\n",
      "8\n",
      "9\n"
     ]
    }
   ],
   "source": [
    "i = 1\n",
    "while i<10:\n",
    "    print(i)\n",
    "    i = i+1\n"
   ]
  },
  {
   "cell_type": "code",
   "execution_count": 13,
   "id": "2c558373",
   "metadata": {},
   "outputs": [
    {
     "name": "stdout",
     "output_type": "stream",
     "text": [
      "1\n",
      "3\n",
      "6\n",
      "10\n",
      "15\n",
      "21\n",
      "28\n",
      "36\n",
      "45\n"
     ]
    }
   ],
   "source": [
    "i=1\n",
    "sum=0\n",
    "while i<10:\n",
    "    sum =sum+i\n",
    "    print(sum)\n",
    "    i = i+1"
   ]
  },
  {
   "cell_type": "code",
   "execution_count": null,
   "id": "6bc41d3e",
   "metadata": {},
   "outputs": [
    {
     "name": "stdout",
     "output_type": "stream",
     "text": [
      "10\n",
      "15\n",
      "20\n",
      "25\n",
      "30\n",
      "35\n",
      "40\n",
      "45\n",
      "50\n"
     ]
    }
   ],
   "source": [
    "sum=0\n",
    "i = 5\n",
    "while i<50:\n",
    "    sum = sum+i\n",
    "    i = i+5\n",
    "    print(i) "
   ]
  },
  {
   "cell_type": "code",
   "execution_count": 1,
   "id": "550a6c0a",
   "metadata": {},
   "outputs": [
    {
     "data": {
      "text/plain": [
       "11"
      ]
     },
     "execution_count": 1,
     "metadata": {},
     "output_type": "execute_result"
    }
   ],
   "source": [
    "def sum(a,b):\n",
    "    x=a+b\n",
    "    return x\n",
    "sum(5,6)"
   ]
  }
 ],
 "metadata": {
  "kernelspec": {
   "display_name": "automtion",
   "language": "python",
   "name": "python3"
  },
  "language_info": {
   "codemirror_mode": {
    "name": "ipython",
    "version": 3
   },
   "file_extension": ".py",
   "mimetype": "text/x-python",
   "name": "python",
   "nbconvert_exporter": "python",
   "pygments_lexer": "ipython3",
   "version": "3.11.8"
  }
 },
 "nbformat": 4,
 "nbformat_minor": 5
}
