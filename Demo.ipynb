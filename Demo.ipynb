{
 "cells": [
  {
   "cell_type": "markdown",
   "id": "380f325e",
   "metadata": {},
   "source": [
    "## Function"
   ]
  },
  {
   "cell_type": "code",
   "execution_count": 1,
   "id": "16f3219a",
   "metadata": {},
   "outputs": [
    {
     "data": {
      "text/plain": [
       "90"
      ]
     },
     "execution_count": 1,
     "metadata": {},
     "output_type": "execute_result"
    }
   ],
   "source": [
    "def myfunc(a,b):\n",
    "    c=a+b\n",
    "    return c\n",
    "output = myfunc(10,80)\n",
    "output\n",
    "    "
   ]
  },
  {
   "cell_type": "code",
   "execution_count": 2,
   "id": "8f0841be",
   "metadata": {},
   "outputs": [
    {
     "data": {
      "text/plain": [
       "5"
      ]
     },
     "execution_count": 2,
     "metadata": {},
     "output_type": "execute_result"
    }
   ],
   "source": [
    "class Test:\n",
    "    def __init__(self, x, y):\n",
    "        self.x = x\n",
    "        self.y = y\n",
    "    \n",
    "    def myfunc(self): #### first mistake\n",
    "        return self.x + self.y\n",
    "    \n",
    "obj = Test(2,3)\n",
    "output = obj.myfunc()\n",
    "output\n",
    "    "
   ]
  },
  {
   "cell_type": "code",
   "execution_count": 3,
   "id": "f608a6e7",
   "metadata": {},
   "outputs": [
    {
     "data": {
      "text/plain": [
       "600"
      ]
     },
     "execution_count": 3,
     "metadata": {},
     "output_type": "execute_result"
    }
   ],
   "source": [
    "class Test1:\n",
    "    def __init__(self, a, b):\n",
    "        self.a = a\n",
    "        self.b = b\n",
    "    \n",
    "    def myfunc(self):\n",
    "      return self.a * self.b\n",
    "    \n",
    "obj = Test1(20,30)\n",
    "output = obj.myfunc()\n",
    "output\n"
   ]
  },
  {
   "cell_type": "code",
   "execution_count": 4,
   "id": "570153b6",
   "metadata": {},
   "outputs": [
    {
     "data": {
      "text/plain": [
       "'Hello'"
      ]
     },
     "execution_count": 4,
     "metadata": {},
     "output_type": "execute_result"
    }
   ],
   "source": [
    "class Test2:\n",
    "    def myfunc():\n",
    "        return \"Hello\"\n",
    "obj = Test2\n",
    "output = obj.myfunc()\n",
    "output        "
   ]
  },
  {
   "cell_type": "code",
   "execution_count": 5,
   "id": "cc357a52",
   "metadata": {},
   "outputs": [
    {
     "name": "stdout",
     "output_type": "stream",
     "text": [
      "15\n"
     ]
    },
    {
     "data": {
      "text/plain": [
       "50"
      ]
     },
     "execution_count": 5,
     "metadata": {},
     "output_type": "execute_result"
    }
   ],
   "source": [
    "class Test3:\n",
    "    def __init__(self, x, y):\n",
    "        self .x = x\n",
    "        self .y = y\n",
    "    def add(self):\n",
    "        return self.x + self.y\n",
    "    def sub(self):\n",
    "        return self.x * self.y\n",
    "    \n",
    "obj =Test3(10,5)\n",
    "output = obj.add()\n",
    "output1 = obj.sub()\n",
    "print(output)\n",
    "output1\n",
    "\n",
    "\n"
   ]
  },
  {
   "cell_type": "code",
   "execution_count": 6,
   "id": "8408e9da",
   "metadata": {},
   "outputs": [
    {
     "data": {
      "text/plain": [
       "5"
      ]
     },
     "execution_count": 6,
     "metadata": {},
     "output_type": "execute_result"
    }
   ],
   "source": [
    "def add(a,b):\n",
    "    c=a+b\n",
    "    return c\n",
    "output =  add(2,3)\n",
    "output"
   ]
  },
  {
   "cell_type": "code",
   "execution_count": 7,
   "id": "1437e65d",
   "metadata": {},
   "outputs": [
    {
     "data": {
      "text/plain": [
       "'Brand'"
      ]
     },
     "execution_count": 7,
     "metadata": {},
     "output_type": "execute_result"
    }
   ],
   "source": [
    "class Car:\n",
    "    def brand():\n",
    "        return \"Brand\"\n",
    "obj = Car\n",
    "output = obj.brand()\n",
    "output"
   ]
  },
  {
   "cell_type": "code",
   "execution_count": 8,
   "id": "a755cb4e",
   "metadata": {},
   "outputs": [
    {
     "data": {
      "text/plain": [
       "'Hello'"
      ]
     },
     "execution_count": 8,
     "metadata": {},
     "output_type": "execute_result"
    }
   ],
   "source": [
    "class Person:\n",
    "    def greet():\n",
    "        return \"Hello\"\n",
    "    \n",
    "obj = Person\n",
    "output =obj.greet()\n",
    "output"
   ]
  },
  {
   "cell_type": "code",
   "execution_count": 9,
   "id": "2a076e6a",
   "metadata": {},
   "outputs": [
    {
     "name": "stdout",
     "output_type": "stream",
     "text": [
      "Brand\n"
     ]
    }
   ],
   "source": [
    "class Car:\n",
    "    print (\"Brand\")\n",
    "obj= Car\n"
   ]
  },
  {
   "cell_type": "code",
   "execution_count": 10,
   "id": "de0ddce1",
   "metadata": {},
   "outputs": [
    {
     "data": {
      "text/plain": [
       "('nihan', 5)"
      ]
     },
     "execution_count": 10,
     "metadata": {},
     "output_type": "execute_result"
    }
   ],
   "source": [
    "class Student:\n",
    "    def __init__(self,name,grade):\n",
    "        self.name = name\n",
    "        self.grade = grade\n",
    "    def display (self):\n",
    "        return self.name, self.grade\n",
    "    \n",
    "obj= Student('nihan', 5)\n",
    "\n",
    "output = obj.display ()\n",
    "output\n",
    "\n",
    " "
   ]
  },
  {
   "cell_type": "code",
   "execution_count": 11,
   "id": "8343065c",
   "metadata": {},
   "outputs": [
    {
     "data": {
      "text/plain": [
       "('OS', 'Galvin')"
      ]
     },
     "execution_count": 11,
     "metadata": {},
     "output_type": "execute_result"
    }
   ],
   "source": [
    "class Book:\n",
    "    def __init__(self, title, author):\n",
    "        self.title = title\n",
    "        self.author = author\n",
    "    def myfunc (self):\n",
    "        return self.title , self .author\n",
    "    \n",
    "obj = Book('OS','Galvin')\n",
    "output = obj.myfunc()\n",
    "output\n",
    "\n",
    "\n",
    "\n",
    "\n"
   ]
  },
  {
   "cell_type": "code",
   "execution_count": 12,
   "id": "b7d6b11b",
   "metadata": {},
   "outputs": [],
   "source": [
    "class Animal:\n",
    "    def __init__(self,name):\n",
    "        self.name =name\n",
    "    def sound(self):\n",
    "        print (\"Some generic animal sound\")\n",
    "  \n",
    "class Cat(Animal):\n",
    "    def sound(self):\n",
    "        print (\"Meow\")\n",
    "        \n",
    "        pass"
   ]
  },
  {
   "cell_type": "code",
   "execution_count": 13,
   "id": "13c38096",
   "metadata": {},
   "outputs": [
    {
     "name": "stdout",
     "output_type": "stream",
     "text": [
      "0\n",
      "1\n",
      "2\n",
      "3\n",
      "4\n",
      "5\n",
      "6\n",
      "7\n",
      "8\n",
      "9\n"
     ]
    }
   ],
   "source": [
    "elements = [0,1,2,3,4,5,6,7,8,9]\n",
    "# type(elements)\n",
    "for x in elements:\n",
    "    print(x)"
   ]
  },
  {
   "cell_type": "code",
   "execution_count": 14,
   "id": "af53ce5f",
   "metadata": {},
   "outputs": [
    {
     "name": "stdout",
     "output_type": "stream",
     "text": [
      "1\n",
      "3\n",
      "5\n",
      "7\n",
      "9\n"
     ]
    }
   ],
   "source": [
    "for x in range(1, 10, 2):\n",
    "    print(x)"
   ]
  },
  {
   "cell_type": "code",
   "execution_count": 15,
   "id": "cf8cfb73",
   "metadata": {},
   "outputs": [
    {
     "name": "stdout",
     "output_type": "stream",
     "text": [
      "Nimisha\n",
      "Nihan\n",
      "Arun\n"
     ]
    },
    {
     "data": {
      "text/plain": [
       "'hello '"
      ]
     },
     "execution_count": 15,
     "metadata": {},
     "output_type": "execute_result"
    }
   ],
   "source": [
    "class Mylist:\n",
    "    def __init__(self, names:list):\n",
    "        self.names = names\n",
    "    \n",
    "    def myfunc(self):\n",
    "        for name in self.names:\n",
    "            print(name)\n",
    "        return \"hello \"\n",
    "\n",
    "obj = Mylist(['Nimisha', 'Nihan', 'Arun'])\n",
    "obj.myfunc()"
   ]
  },
  {
   "cell_type": "code",
   "execution_count": 16,
   "id": "d5d36370",
   "metadata": {},
   "outputs": [
    {
     "name": "stdout",
     "output_type": "stream",
     "text": [
      "1\n",
      "2\n",
      "3\n",
      "4\n",
      "5\n"
     ]
    }
   ],
   "source": [
    "class Test:\n",
    "    \n",
    "    def myfunc(x):\n",
    "        # x=[1,2,3,4,5]\n",
    "        for i in x:\n",
    "            print(i)\n",
    "\n",
    "obj = Test\n",
    "obj.myfunc([1,2,3,4,5])\n",
    "\n",
    "\n",
    "\n",
    " "
   ]
  },
  {
   "cell_type": "code",
   "execution_count": 17,
   "id": "aa97735a",
   "metadata": {},
   "outputs": [
    {
     "name": "stdout",
     "output_type": "stream",
     "text": [
      "Nimisha"
     ]
    }
   ],
   "source": [
    "class Test1:\n",
    "    def myfunc(x):\n",
    "        # return x\n",
    "        for i in x:\n",
    "            print(i, end=\"\")\n",
    "\n",
    "obj = Test1\n",
    "obj.myfunc('Nimisha')"
   ]
  },
  {
   "cell_type": "code",
   "execution_count": 18,
   "id": "abac0a86",
   "metadata": {},
   "outputs": [
    {
     "name": "stdout",
     "output_type": "stream",
     "text": [
      "Nimisha\n",
      "Nihan\n"
     ]
    }
   ],
   "source": [
    "class Test1:\n",
    "    def myfunc(x):\n",
    "        \n",
    "        for i in x:\n",
    "            print(i)\n",
    "\n",
    "obj = Test1\n",
    "obj.myfunc(['Nimisha','Nihan'])   "
   ]
  },
  {
   "cell_type": "code",
   "execution_count": 19,
   "id": "b027d2a7",
   "metadata": {},
   "outputs": [],
   "source": [
    "### sum of 10 digits\n",
    "\n",
    "# summ = 0\n",
    "# mul = 1\n",
    "# lst = [2,5,7,9,39]\n",
    "# for x in lst:\n",
    "#     summ = summ + x\n",
    "#     mul = mul * x\n",
    "\n",
    "# summ, mul"
   ]
  },
  {
   "cell_type": "code",
   "execution_count": 32,
   "id": "b0e18721",
   "metadata": {},
   "outputs": [
    {
     "ename": "NameError",
     "evalue": "name 'sum' is not defined",
     "output_type": "error",
     "traceback": [
      "\u001b[31m---------------------------------------------------------------------------\u001b[39m",
      "\u001b[31mNameError\u001b[39m                                 Traceback (most recent call last)",
      "\u001b[36mCell\u001b[39m\u001b[36m \u001b[39m\u001b[32mIn[32]\u001b[39m\u001b[32m, line 1\u001b[39m\n\u001b[32m----> \u001b[39m\u001b[32m1\u001b[39m \u001b[38;5;28;01mdel\u001b[39;00m \u001b[38;5;28;43msum\u001b[39;49m\n\u001b[32m      2\u001b[39m lst = [\u001b[32m1\u001b[39m, \u001b[32m2\u001b[39m, \u001b[32m3\u001b[39m, \u001b[32m4\u001b[39m, \u001b[32m5\u001b[39m]\n\u001b[32m      3\u001b[39m total = \u001b[38;5;28msum\u001b[39m(lst)\n",
      "\u001b[31mNameError\u001b[39m: name 'sum' is not defined"
     ]
    }
   ],
   "source": [
    "del sum\n",
    "lst = [1, 2, 3, 4, 5]\n",
    "total = sum(lst)\n",
    "print(total)  "
   ]
  },
  {
   "cell_type": "code",
   "execution_count": 33,
   "id": "3072f549",
   "metadata": {},
   "outputs": [
    {
     "name": "stdout",
     "output_type": "stream",
     "text": [
      "1 6\n",
      "1 7\n",
      "1 8\n",
      "1 9\n",
      "1 10\n",
      "2 6\n",
      "2 7\n",
      "2 8\n",
      "2 9\n",
      "2 10\n",
      "3 6\n",
      "3 7\n",
      "3 8\n",
      "3 9\n",
      "3 10\n",
      "4 6\n",
      "4 7\n",
      "4 8\n",
      "4 9\n",
      "4 10\n",
      "5 6\n",
      "5 7\n",
      "5 8\n",
      "5 9\n",
      "5 10\n"
     ]
    }
   ],
   "source": [
    "for x in [1,2,3,4,5]:\n",
    "    for y in [6,7,8,9,10]:\n",
    "        print(x, y)"
   ]
  },
  {
   "cell_type": "markdown",
   "id": "ae368a44",
   "metadata": {},
   "source": [
    "## while loop\n"
   ]
  },
  {
   "cell_type": "code",
   "execution_count": 22,
   "id": "d9616dcb",
   "metadata": {},
   "outputs": [],
   "source": [
    "# lst = [0,1,2,3,4,5,6,7,8,9]\n",
    "\n",
    "# for x in lst:\n",
    "#     if x%2==0: # % is remainder in python \n",
    "#         print('even', x)\n",
    "#     else:\n",
    "#         print('odd', x)  \n"
   ]
  },
  {
   "cell_type": "code",
   "execution_count": 34,
   "id": "3be7e496",
   "metadata": {},
   "outputs": [
    {
     "data": {
      "text/plain": [
       "55"
      ]
     },
     "execution_count": 34,
     "metadata": {},
     "output_type": "execute_result"
    }
   ],
   "source": [
    "i = 0\n",
    "summ = 0\n",
    "while i<=10:\n",
    "    summ = summ + i\n",
    "    i = i + 1 \n",
    "summ\n"
   ]
  },
  {
   "cell_type": "markdown",
   "id": "d8d11726",
   "metadata": {},
   "source": [
    "### If Else Elif"
   ]
  },
  {
   "cell_type": "code",
   "execution_count": 24,
   "id": "5ea8df59",
   "metadata": {},
   "outputs": [
    {
     "name": "stdout",
     "output_type": "stream",
     "text": [
      "True\n"
     ]
    }
   ],
   "source": [
    "a = 1    # ==, +=, etc comparetor\n",
    "if a == 1:\n",
    "    print(True)\n",
    "elif a == 2:\n",
    "    print('Hello')\n",
    "else:\n",
    "    print(False)"
   ]
  },
  {
   "cell_type": "code",
   "execution_count": 25,
   "id": "78fae63e",
   "metadata": {},
   "outputs": [],
   "source": [
    "### Data Type\n",
    "\n",
    "# String, Integer, Boolean, Complex, Float\n",
    "\n",
    "# string = \"hello world\"  ### alphabetic letter, word or a sentence inside qotes \n",
    "# integer = 1 ### numeric value is an integer \n",
    "# Boolean = True, False ### True/False are the boolean values where True is valued as 1, False is values as 0\n",
    "# float = 0.12 ## any decimal digits is known as float values \n",
    "# complex = 1 + 5j ### number with imaginary variable is complex data type \n",
    "# complex, type(integer)"
   ]
  },
  {
   "cell_type": "code",
   "execution_count": null,
   "id": "87f3ff70",
   "metadata": {},
   "outputs": [],
   "source": []
  },
  {
   "cell_type": "code",
   "execution_count": 26,
   "id": "193daf84",
   "metadata": {},
   "outputs": [
    {
     "data": {
      "text/plain": [
       "float"
      ]
     },
     "execution_count": 26,
     "metadata": {},
     "output_type": "execute_result"
    }
   ],
   "source": [
    "## converting INt to DEC \n",
    "i = 5\n",
    "type(float(i))\n"
   ]
  },
  {
   "cell_type": "code",
   "execution_count": 27,
   "id": "02fc6bc0",
   "metadata": {},
   "outputs": [
    {
     "name": "stdout",
     "output_type": "stream",
     "text": [
      "[1, 2, 3, 4]\n"
     ]
    }
   ],
   "source": [
    "list = [1,2,3,4]\n",
    "print(list)"
   ]
  },
  {
   "cell_type": "code",
   "execution_count": 28,
   "id": "0c09f510",
   "metadata": {},
   "outputs": [
    {
     "data": {
      "text/plain": [
       "120"
      ]
     },
     "execution_count": 28,
     "metadata": {},
     "output_type": "execute_result"
    }
   ],
   "source": [
    "def fact(n):\n",
    " fact=1\n",
    " i=1\n",
    " while i<=5:\n",
    "    fact =fact*i\n",
    "    i = i +1\n",
    " return(fact)\n",
    "fact(5)\n"
   ]
  },
  {
   "cell_type": "code",
   "execution_count": null,
   "id": "4aed05e1",
   "metadata": {},
   "outputs": [],
   "source": [
    "newlst = []\n",
    "a = [1,2,3,4,4,3]"
   ]
  }
 ],
 "metadata": {
  "kernelspec": {
   "display_name": "automtion",
   "language": "python",
   "name": "python3"
  },
  "language_info": {
   "codemirror_mode": {
    "name": "ipython",
    "version": 3
   },
   "file_extension": ".py",
   "mimetype": "text/x-python",
   "name": "python",
   "nbconvert_exporter": "python",
   "pygments_lexer": "ipython3",
   "version": "3.11.8"
  }
 },
 "nbformat": 4,
 "nbformat_minor": 5
}
