{
 "cells": [
  {
   "cell_type": "code",
   "execution_count": 1,
   "id": "15acc6c2",
   "metadata": {},
   "outputs": [
    {
     "data": {
      "text/plain": [
       "5.0"
      ]
     },
     "execution_count": 1,
     "metadata": {},
     "output_type": "execute_result"
    }
   ],
   "source": [
    "## converting int to dec\n",
    "\n",
    "i = 5 \n",
    "float(i)"
   ]
  },
  {
   "cell_type": "code",
   "execution_count": 41,
   "id": "76e7524e",
   "metadata": {},
   "outputs": [
    {
     "data": {
      "text/plain": [
       "1234.0"
      ]
     },
     "execution_count": 41,
     "metadata": {},
     "output_type": "execute_result"
    }
   ],
   "source": [
    "## converting string of int to delcimal \n",
    "\n",
    "s = '1234'\n",
    "float(s)"
   ]
  },
  {
   "cell_type": "code",
   "execution_count": 3,
   "id": "8aec9e2c",
   "metadata": {},
   "outputs": [
    {
     "data": {
      "text/plain": [
       "'rh'"
      ]
     },
     "execution_count": 3,
     "metadata": {},
     "output_type": "execute_result"
    }
   ],
   "source": [
    "## reverse a string \n",
    "\n",
    "a = \"NimishaMathur\"\n",
    "a[-1:-5:-2]"
   ]
  },
  {
   "cell_type": "code",
   "execution_count": 4,
   "id": "79d09301",
   "metadata": {},
   "outputs": [
    {
     "data": {
      "text/plain": [
       "'ahsimiN'"
      ]
     },
     "execution_count": 4,
     "metadata": {},
     "output_type": "execute_result"
    }
   ],
   "source": [
    "def reverse_string(a):\n",
    "    c = a[::-1]\n",
    "    return c\n",
    "output = reverse_string(\"Nimisha\")\n",
    "output\n"
   ]
  },
  {
   "cell_type": "code",
   "execution_count": 5,
   "id": "61fec654",
   "metadata": {},
   "outputs": [
    {
     "data": {
      "text/plain": [
       "('it is a palidrome', 'NitiN')"
      ]
     },
     "execution_count": 5,
     "metadata": {},
     "output_type": "execute_result"
    }
   ],
   "source": [
    "def palidrome(s):\n",
    "    pal = s[::-1]\n",
    "    if pal == s:\n",
    "        return('it is a palidrome', pal)\n",
    "    else:\n",
    "        return('Not a palidrome')\n",
    "\n",
    "palidrome('NitiN')"
   ]
  },
  {
   "cell_type": "code",
   "execution_count": 6,
   "id": "64ee0e0f",
   "metadata": {},
   "outputs": [
    {
     "data": {
      "text/plain": [
       "(3, 8)"
      ]
     },
     "execution_count": 6,
     "metadata": {},
     "output_type": "execute_result"
    }
   ],
   "source": [
    "## counting Vowels \n",
    "\n",
    "vowels = ['a','e','i','o','u']\n",
    "word = 'programming'\n",
    "count = 0\n",
    "consonent =0\n",
    "for alphabet in word:    \n",
    "    if alphabet in vowels:\n",
    "        count+=1\n",
    "    else:\n",
    "        consonent+=1\n",
    "count, consonent\n"
   ]
  },
  {
   "cell_type": "code",
   "execution_count": 7,
   "id": "cb95ab7f",
   "metadata": {},
   "outputs": [
    {
     "data": {
      "text/plain": [
       "(3, 8)"
      ]
     },
     "execution_count": 7,
     "metadata": {},
     "output_type": "execute_result"
    }
   ],
   "source": [
    "def count_vowel_consonenet(word):\n",
    "    vowels = ['a','e','i','o','u']\n",
    "    count = 0\n",
    "    consonent = 0\n",
    "    for alphabet in word:    \n",
    "        if alphabet in vowels:\n",
    "            count+=1\n",
    "        else:\n",
    "            consonent+=1\n",
    "    \n",
    "    return count, consonent\n",
    "\n",
    "o = count_vowel_consonenet(\"Programming\")\n",
    "o"
   ]
  },
  {
   "cell_type": "code",
   "execution_count": 8,
   "id": "3c7a2135",
   "metadata": {},
   "outputs": [
    {
     "data": {
      "text/plain": [
       "(2, 5)"
      ]
     },
     "execution_count": 8,
     "metadata": {},
     "output_type": "execute_result"
    }
   ],
   "source": [
    "count_vowel_consonenet(\"Testing\")"
   ]
  },
  {
   "cell_type": "code",
   "execution_count": 9,
   "id": "e1ec7f41",
   "metadata": {},
   "outputs": [
    {
     "data": {
      "text/plain": [
       "1"
      ]
     },
     "execution_count": 9,
     "metadata": {},
     "output_type": "execute_result"
    }
   ],
   "source": [
    "def recurring_count(word, letter):\n",
    "    count = 0\n",
    "    for alphabet in word:\n",
    "        if alphabet == letter:\n",
    "            count+=1\n",
    "    return count\n",
    "\n",
    "recurring_count('Programming', 'o')\n"
   ]
  },
  {
   "cell_type": "code",
   "execution_count": 10,
   "id": "e66c8547",
   "metadata": {},
   "outputs": [
    {
     "data": {
      "text/plain": [
       "'0 1 1 2 3 5 8'"
      ]
     },
     "execution_count": 10,
     "metadata": {},
     "output_type": "execute_result"
    }
   ],
   "source": [
    "fib = [0,1]\n",
    "for i in range(5):\n",
    "    fib.append(fib[-1] + fib[-2])\n",
    "\" \".join(str(e) for e in fib)"
   ]
  },
  {
   "cell_type": "code",
   "execution_count": 11,
   "id": "a599e7cb",
   "metadata": {},
   "outputs": [
    {
     "name": "stdout",
     "output_type": "stream",
     "text": [
      "0\n",
      "1\n",
      "2\n",
      "3\n",
      "4\n"
     ]
    }
   ],
   "source": [
    "for x in range(5):\n",
    "    print(x)"
   ]
  },
  {
   "cell_type": "code",
   "execution_count": 12,
   "id": "1b6cbc08",
   "metadata": {},
   "outputs": [
    {
     "data": {
      "text/plain": [
       "9"
      ]
     },
     "execution_count": 12,
     "metadata": {},
     "output_type": "execute_result"
    }
   ],
   "source": [
    "def largest_number(lst):\n",
    "    lrgst_num = 0\n",
    "    for x in lst:\n",
    "        if x > lrgst_num:\n",
    "            lrgst_num = x\n",
    "    return lrgst_num\n",
    "    \n",
    "largest_number([0,1,6,4,9,8,3])\n",
    "\n"
   ]
  },
  {
   "cell_type": "code",
   "execution_count": 13,
   "id": "11ef3c25",
   "metadata": {},
   "outputs": [
    {
     "data": {
      "text/plain": [
       "[0, 1, 1, 2, 3, 5, 8]"
      ]
     },
     "execution_count": 13,
     "metadata": {},
     "output_type": "execute_result"
    }
   ],
   "source": [
    "def fibbonacci_series(lst):\n",
    "\n",
    "    for x in range(5):\n",
    "        lst.append(lst[-1] + lst[-2])\n",
    "    return lst\n",
    "\n",
    "fibbonacci_series([0,1])"
   ]
  },
  {
   "cell_type": "code",
   "execution_count": 14,
   "id": "47b04ba3",
   "metadata": {},
   "outputs": [
    {
     "data": {
      "text/plain": [
       "[0, 1, 1, 2, 3, 5, 8, 'nimisha']"
      ]
     },
     "execution_count": 14,
     "metadata": {},
     "output_type": "execute_result"
    }
   ],
   "source": [
    "elements = [0, 1, 1, 2, 3, 5, 8]\n",
    "elements.append('nimisha')\n",
    "elements"
   ]
  },
  {
   "cell_type": "code",
   "execution_count": 15,
   "id": "258e6868",
   "metadata": {},
   "outputs": [
    {
     "data": {
      "text/plain": [
       "[0, 1, 2, 3]"
      ]
     },
     "execution_count": 15,
     "metadata": {},
     "output_type": "execute_result"
    }
   ],
   "source": [
    "list1 = [0,1]\n",
    "list2 = [2,3]\n",
    "list1.extend(list2)\n",
    "list1"
   ]
  },
  {
   "cell_type": "code",
   "execution_count": 16,
   "id": "3e8c7c5f",
   "metadata": {},
   "outputs": [
    {
     "data": {
      "text/plain": [
       "93"
      ]
     },
     "execution_count": 16,
     "metadata": {},
     "output_type": "execute_result"
    }
   ],
   "source": [
    "lst = [29,42,56,1,3,93, 29, 48]\n",
    "no = 0\n",
    "for i in lst:\n",
    "    if i > no:\n",
    "        no = i\n",
    "\n",
    "no\n",
    " \n",
    "\n",
    "    "
   ]
  },
  {
   "cell_type": "code",
   "execution_count": 17,
   "id": "6ed8aeab",
   "metadata": {},
   "outputs": [
    {
     "name": "stdout",
     "output_type": "stream",
     "text": [
      "0\n",
      "1\n",
      "2\n",
      "3\n",
      "4\n"
     ]
    }
   ],
   "source": [
    "lst = ['apple', 'banana', 'grapes', 'mango']\n",
    "for x in range(5):\n",
    "    print(x)"
   ]
  },
  {
   "cell_type": "code",
   "execution_count": 18,
   "id": "175e740d",
   "metadata": {},
   "outputs": [
    {
     "data": {
      "text/plain": [
       "'plum'"
      ]
     },
     "execution_count": 18,
     "metadata": {},
     "output_type": "execute_result"
    }
   ],
   "source": [
    "fruits = [\n",
    "    \"apple\",\n",
    "    \"banana\",\n",
    "    \"orange\",\n",
    "    \"grape\",\n",
    "    \"pineapple\",\n",
    "    \"mango\",\n",
    "    \"strawberry\",\n",
    "    \"blueberry\",\n",
    "    \"watermelon\",\n",
    "    \"kiwi\",\n",
    "    \"peach\",\n",
    "    \"cherry\",\n",
    "    \"pomegranate\",\n",
    "    \"papaya\",\n",
    "    \"lemon\",\n",
    "    \"lime\",\n",
    "    \"coconut\",\n",
    "    \"pear\",\n",
    "    \"plum\",\n",
    "    \"apricot\"\n",
    "]\n",
    "fruits[-2]"
   ]
  },
  {
   "cell_type": "code",
   "execution_count": 19,
   "id": "45e6cb87",
   "metadata": {},
   "outputs": [
    {
     "name": "stdout",
     "output_type": "stream",
     "text": [
      "apple\n",
      "------------------------------------------------------------------------------------\n",
      "+++++++++++++++++++++++++++++++++++++++++++++++++++++++++++++++++++++++++++++++++++++++++++\n",
      "banana\n",
      "------------------------------------------------------------------------------------\n",
      "+++++++++++++++++++++++++++++++++++++++++++++++++++++++++++++++++++++++++++++++++++++++++++\n",
      "orange\n",
      "------------------------------------------------------------------------------------\n",
      "+++++++++++++++++++++++++++++++++++++++++++++++++++++++++++++++++++++++++++++++++++++++++++\n",
      "grape\n",
      "------------------------------------------------------------------------------------\n",
      "+++++++++++++++++++++++++++++++++++++++++++++++++++++++++++++++++++++++++++++++++++++++++++\n",
      "pineapple\n",
      "------------------------------------------------------------------------------------\n",
      "+++++++++++++++++++++++++++++++++++++++++++++++++++++++++++++++++++++++++++++++++++++++++++\n",
      "mango\n",
      "------------------------------------------------------------------------------------\n",
      "+++++++++++++++++++++++++++++++++++++++++++++++++++++++++++++++++++++++++++++++++++++++++++\n",
      "strawberry\n",
      "------------------------------------------------------------------------------------\n",
      "+++++++++++++++++++++++++++++++++++++++++++++++++++++++++++++++++++++++++++++++++++++++++++\n",
      "blueberry\n",
      "------------------------------------------------------------------------------------\n",
      "+++++++++++++++++++++++++++++++++++++++++++++++++++++++++++++++++++++++++++++++++++++++++++\n",
      "watermelon\n",
      "------------------------------------------------------------------------------------\n",
      "+++++++++++++++++++++++++++++++++++++++++++++++++++++++++++++++++++++++++++++++++++++++++++\n",
      "kiwi\n",
      "------------------------------------------------------------------------------------\n",
      "+++++++++++++++++++++++++++++++++++++++++++++++++++++++++++++++++++++++++++++++++++++++++++\n",
      "peach\n",
      "------------------------------------------------------------------------------------\n",
      "+++++++++++++++++++++++++++++++++++++++++++++++++++++++++++++++++++++++++++++++++++++++++++\n",
      "cherry\n",
      "------------------------------------------------------------------------------------\n",
      "+++++++++++++++++++++++++++++++++++++++++++++++++++++++++++++++++++++++++++++++++++++++++++\n",
      "pomegranate\n",
      "------------------------------------------------------------------------------------\n",
      "+++++++++++++++++++++++++++++++++++++++++++++++++++++++++++++++++++++++++++++++++++++++++++\n",
      "papaya\n",
      "------------------------------------------------------------------------------------\n",
      "+++++++++++++++++++++++++++++++++++++++++++++++++++++++++++++++++++++++++++++++++++++++++++\n",
      "lemon\n",
      "------------------------------------------------------------------------------------\n",
      "+++++++++++++++++++++++++++++++++++++++++++++++++++++++++++++++++++++++++++++++++++++++++++\n",
      "lime\n",
      "------------------------------------------------------------------------------------\n",
      "+++++++++++++++++++++++++++++++++++++++++++++++++++++++++++++++++++++++++++++++++++++++++++\n",
      "coconut\n",
      "------------------------------------------------------------------------------------\n",
      "+++++++++++++++++++++++++++++++++++++++++++++++++++++++++++++++++++++++++++++++++++++++++++\n",
      "pear\n",
      "------------------------------------------------------------------------------------\n",
      "+++++++++++++++++++++++++++++++++++++++++++++++++++++++++++++++++++++++++++++++++++++++++++\n",
      "plum\n",
      "------------------------------------------------------------------------------------\n",
      "+++++++++++++++++++++++++++++++++++++++++++++++++++++++++++++++++++++++++++++++++++++++++++\n",
      "apricot\n",
      "------------------------------------------------------------------------------------\n",
      "+++++++++++++++++++++++++++++++++++++++++++++++++++++++++++++++++++++++++++++++++++++++++++\n"
     ]
    }
   ],
   "source": [
    "for fruit in fruits:\n",
    "    print(fruit)\n",
    "    print('------------------------------------------------------------------------------------')\n",
    "    print('+++++++++++++++++++++++++++++++++++++++++++++++++++++++++++++++++++++++++++++++++++++++++++')"
   ]
  },
  {
   "cell_type": "code",
   "execution_count": 20,
   "id": "9b662976",
   "metadata": {},
   "outputs": [
    {
     "data": {
      "text/plain": [
       "1"
      ]
     },
     "execution_count": 20,
     "metadata": {},
     "output_type": "execute_result"
    }
   ],
   "source": [
    "lst = [29,42,56,1,3,93, 29, 48]\n",
    "no = lst[0]\n",
    "for i in lst:\n",
    "    if i < no:\n",
    "        no = i\n",
    "no"
   ]
  },
  {
   "cell_type": "code",
   "execution_count": 21,
   "id": "5a59e6f2",
   "metadata": {},
   "outputs": [
    {
     "data": {
      "text/plain": [
       "5"
      ]
     },
     "execution_count": 21,
     "metadata": {},
     "output_type": "execute_result"
    }
   ],
   "source": [
    "lst = [1,2,3,4,5,6,7,8]\n",
    "int(len(lst)/2)\n",
    "lst[4]"
   ]
  },
  {
   "cell_type": "code",
   "execution_count": 22,
   "id": "48bb928d",
   "metadata": {},
   "outputs": [
    {
     "name": "stdout",
     "output_type": "stream",
     "text": [
      "python\n"
     ]
    }
   ],
   "source": [
    "lst = ['p','y','t','h','o','n']\n",
    "result = \"\".join(lst)\n",
    "print(result)"
   ]
  },
  {
   "cell_type": "code",
   "execution_count": 23,
   "id": "cabe97be",
   "metadata": {},
   "outputs": [
    {
     "name": "stdout",
     "output_type": "stream",
     "text": [
      "true\n"
     ]
    }
   ],
   "source": [
    "str1 = \"mathur\"\n",
    "str2 = \"Mathur\"\n",
    "\n",
    "str1 = str1.replace(\" \", \" \").upper()\n",
    "str2 = str2.replace(\" \", \" \").upper()\n",
    "if sorted(str1) == sorted(str2):\n",
    "    print (\"true\")\n",
    "else:\n",
    "    print (\"false\")\n",
    "\n"
   ]
  },
  {
   "cell_type": "code",
   "execution_count": 24,
   "id": "528c2d65",
   "metadata": {},
   "outputs": [
    {
     "name": "stdout",
     "output_type": "stream",
     "text": [
      "false\n"
     ]
    }
   ],
   "source": [
    "def pal(s):\n",
    "    num = s[::-1]\n",
    "    if num == s:\n",
    "        print ('true')\n",
    "    else:\n",
    "        print ('false')\n",
    "pal(\"nimi\")"
   ]
  },
  {
   "cell_type": "code",
   "execution_count": 25,
   "id": "fb725548",
   "metadata": {},
   "outputs": [
    {
     "name": "stdout",
     "output_type": "stream",
     "text": [
      "2\n"
     ]
    }
   ],
   "source": [
    "str = \"Pro gram ming\"\n",
    "print(str.count(\" \"))"
   ]
  },
  {
   "cell_type": "code",
   "execution_count": 26,
   "id": "12ea13aa",
   "metadata": {},
   "outputs": [
    {
     "name": "stdout",
     "output_type": "stream",
     "text": [
      "P r o\n"
     ]
    }
   ],
   "source": [
    "str = \"P r o\"\n",
    "result = \"\".join(str)\n",
    "print(result)"
   ]
  },
  {
   "cell_type": "code",
   "execution_count": 27,
   "id": "03a90736",
   "metadata": {},
   "outputs": [
    {
     "data": {
      "text/plain": [
       "[1, 2, 3, 4, 5, 6]"
      ]
     },
     "execution_count": 27,
     "metadata": {},
     "output_type": "execute_result"
    }
   ],
   "source": [
    "lst1 = [1,2,3]\n",
    "lst2 = [4,5,6]\n",
    "result = lst1 + lst2\n",
    "result"
   ]
  },
  {
   "cell_type": "code",
   "execution_count": 28,
   "id": "cc9f8181",
   "metadata": {},
   "outputs": [
    {
     "name": "stdout",
     "output_type": "stream",
     "text": [
      "1\n",
      "8\n",
      "9\n"
     ]
    },
    {
     "name": "stderr",
     "output_type": "stream",
     "text": [
      "<>:8: SyntaxWarning: invalid escape sequence '\\s'\n",
      "<>:8: SyntaxWarning: invalid escape sequence '\\s'\n",
      "C:\\Users\\Nimisha\\AppData\\Local\\Temp\\ipykernel_8520\\3796804663.py:8: SyntaxWarning: invalid escape sequence '\\s'\n",
      "  len3 = len(re.sub(\"[\\s]\", \"\", str))         # Remove spaces\n"
     ]
    }
   ],
   "source": [
    "# importing Regular Expressions Library\n",
    "import re\n",
    "\n",
    "str = 'Python is 1'\n",
    "\n",
    "len1 = len(re.sub(\"[^0-9]\", \"\", str))       # Keep only digits\n",
    "len2 = len(re.sub(\"[^a-zA-Z]\", \"\", str))    # Keep only letters\n",
    "len3 = len(re.sub(\"[\\s]\", \"\", str))         # Remove spaces\n",
    "\n",
    "print(len1)\n",
    "print(len2)\n",
    "print(len3)\n"
   ]
  },
  {
   "cell_type": "code",
   "execution_count": 31,
   "id": "076277c8",
   "metadata": {},
   "outputs": [
    {
     "data": {
      "text/plain": [
       "''"
      ]
     },
     "execution_count": 31,
     "metadata": {},
     "output_type": "execute_result"
    }
   ],
   "source": [
    "\n",
    "mov1 = input(\"enter 1st movie name\")\n",
    "mov2 = input(\"enter 1st movie name\")\n",
    "mov3 = input(\"enter 1st movie name\")\n",
    "mov1"
   ]
  },
  {
   "cell_type": "code",
   "execution_count": 34,
   "id": "61270553",
   "metadata": {},
   "outputs": [
    {
     "name": "stdout",
     "output_type": "stream",
     "text": [
      "karan\n",
      "karan\n"
     ]
    }
   ],
   "source": [
    "class Student:\n",
    "    name = \"karan\"\n",
    "s1 = Student()\n",
    "print(s1.name)\n",
    "\n",
    "s2 =Student()\n",
    "print(s2.name)"
   ]
  },
  {
   "cell_type": "code",
   "execution_count": 38,
   "id": "e6d706fd",
   "metadata": {},
   "outputs": [
    {
     "name": "stdout",
     "output_type": "stream",
     "text": [
      "add name\n",
      "nimisha\n"
     ]
    }
   ],
   "source": [
    "class Student:\n",
    "    def __init__(self,name):\n",
    "        self.name = name\n",
    "        print(\"add name\")\n",
    "\n",
    "s1 = Student(\"nimisha\")\n",
    "print(s1.name)"
   ]
  },
  {
   "cell_type": "code",
   "execution_count": 40,
   "id": "a03bda90",
   "metadata": {},
   "outputs": [
    {
     "name": "stdout",
     "output_type": "stream",
     "text": [
      "{'name': 'nimisha', 'Place': 'delhi'}\n"
     ]
    }
   ],
   "source": [
    "dict = {\n",
    "   \"name\" :\"nimisha\",\n",
    "   \"Place\" : \"delhi\"\n",
    "\n",
    "      }\n",
    "print(dict)\n",
    "\n",
    "  "
   ]
  },
  {
   "cell_type": "code",
   "execution_count": 42,
   "id": "0d38f4c1",
   "metadata": {},
   "outputs": [
    {
     "ename": "NameError",
     "evalue": "name 'python' is not defined",
     "output_type": "error",
     "traceback": [
      "\u001b[31m---------------------------------------------------------------------------\u001b[39m",
      "\u001b[31mNameError\u001b[39m                                 Traceback (most recent call last)",
      "\u001b[36mCell\u001b[39m\u001b[36m \u001b[39m\u001b[32mIn[42]\u001b[39m\u001b[32m, line 1\u001b[39m\n\u001b[32m----> \u001b[39m\u001b[32m1\u001b[39m \u001b[43mpython\u001b[49m --version\n",
      "\u001b[31mNameError\u001b[39m: name 'python' is not defined"
     ]
    }
   ],
   "source": [
    "python --version"
   ]
  },
  {
   "cell_type": "code",
   "execution_count": null,
   "id": "cd12b41b",
   "metadata": {},
   "outputs": [],
   "source": []
  }
 ],
 "metadata": {
  "kernelspec": {
   "display_name": "venv",
   "language": "python",
   "name": "python3"
  },
  "language_info": {
   "codemirror_mode": {
    "name": "ipython",
    "version": 3
   },
   "file_extension": ".py",
   "mimetype": "text/x-python",
   "name": "python",
   "nbconvert_exporter": "python",
   "pygments_lexer": "ipython3",
   "version": "3.11.8"
  }
 },
 "nbformat": 4,
 "nbformat_minor": 5
}
