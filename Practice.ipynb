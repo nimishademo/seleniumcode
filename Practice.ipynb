{
 "cells": [
  {
   "cell_type": "code",
   "execution_count": 2,
   "id": "d471c969",
   "metadata": {},
   "outputs": [
    {
     "data": {
      "text/plain": [
       "int"
      ]
     },
     "execution_count": 2,
     "metadata": {},
     "output_type": "execute_result"
    }
   ],
   "source": [
    "i = 5\n",
    "float(i)\n",
    "type(i)"
   ]
  },
  {
   "cell_type": "code",
   "execution_count": 3,
   "id": "e096bea2",
   "metadata": {},
   "outputs": [
    {
     "data": {
      "text/plain": [
       "54321.0"
      ]
     },
     "execution_count": 3,
     "metadata": {},
     "output_type": "execute_result"
    }
   ],
   "source": [
    "i = '54321'\n",
    "float(i)"
   ]
  },
  {
   "cell_type": "code",
   "execution_count": 4,
   "id": "ac320bb2",
   "metadata": {},
   "outputs": [
    {
     "data": {
      "text/plain": [
       "'ahsimiN'"
      ]
     },
     "execution_count": 4,
     "metadata": {},
     "output_type": "execute_result"
    }
   ],
   "source": [
    "def reverse_number(word):\n",
    "    s = word[::-1]\n",
    "    return s\n",
    "reverse_number('Nimisha')\n"
   ]
  },
  {
   "cell_type": "code",
   "execution_count": 13,
   "id": "c00fce45",
   "metadata": {},
   "outputs": [
    {
     "data": {
      "text/plain": [
       "(3, 4)"
      ]
     },
     "execution_count": 13,
     "metadata": {},
     "output_type": "execute_result"
    }
   ],
   "source": [
    "def vowel_count(word):\n",
    "    count = 0\n",
    "    vowel = ['a','e','i','o','u']\n",
    "    consonent = 0\n",
    "    for i in word:\n",
    "        if i in vowel:\n",
    "            count+= 1\n",
    "        else :\n",
    "            consonent+=1\n",
    "    return count,consonent\n",
    "vowel_count('Nimisha')\n"
   ]
  },
  {
   "cell_type": "code",
   "execution_count": 14,
   "id": "a3119aa1",
   "metadata": {},
   "outputs": [
    {
     "data": {
      "text/plain": [
       "2"
      ]
     },
     "execution_count": 14,
     "metadata": {},
     "output_type": "execute_result"
    }
   ],
   "source": [
    "def word_occurence(word,w):\n",
    "    count = 0\n",
    "    for i in word:\n",
    "        if i == w:\n",
    "            count+=1\n",
    "    return count\n",
    "word_occurence('Nimisha','i')\n"
   ]
  },
  {
   "cell_type": "code",
   "execution_count": 16,
   "id": "ba6cf321",
   "metadata": {},
   "outputs": [
    {
     "data": {
      "text/plain": [
       "True"
      ]
     },
     "execution_count": 16,
     "metadata": {},
     "output_type": "execute_result"
    }
   ],
   "source": [
    "def pal(word):\n",
    "    a= word[::-1]\n",
    "    if a==word:\n",
    "        return True\n",
    "    else:\n",
    "        return False\n",
    "pal('NitiN')\n"
   ]
  },
  {
   "cell_type": "code",
   "execution_count": 24,
   "id": "b3c66357",
   "metadata": {},
   "outputs": [
    {
     "data": {
      "text/plain": [
       "9"
      ]
     },
     "execution_count": 24,
     "metadata": {},
     "output_type": "execute_result"
    }
   ],
   "source": [
    "def max_number(no):\n",
    "    count = 0\n",
    "    for i in no:\n",
    "        if i > count:\n",
    "            count= i\n",
    "    return count\n",
    "\n",
    "max_number([1,6,4,9,8,3])\n",
    "         \n"
   ]
  },
  {
   "cell_type": "code",
   "execution_count": 30,
   "id": "d2bc028f",
   "metadata": {},
   "outputs": [
    {
     "data": {
      "text/plain": [
       "1"
      ]
     },
     "execution_count": 30,
     "metadata": {},
     "output_type": "execute_result"
    }
   ],
   "source": [
    "def min_number(lst):\n",
    "    count=lst[0]\n",
    "    for i in lst:\n",
    "        if i < count:\n",
    "            count = i\n",
    "    return count\n",
    "\n",
    "min_number([1,6,4,9,8,3])"
   ]
  },
  {
   "cell_type": "code",
   "execution_count": null,
   "id": "6702d580",
   "metadata": {},
   "outputs": [
    {
     "data": {
      "text/plain": [
       "5"
      ]
     },
     "execution_count": 32,
     "metadata": {},
     "output_type": "execute_result"
    }
   ],
   "source": [
    "lst = [1,2,3,4,5]\n",
    "int(len(lst)/2)\n",
    "lst[3]"
   ]
  },
  {
   "cell_type": "code",
   "execution_count": 45,
   "id": "8c989874",
   "metadata": {},
   "outputs": [
    {
     "name": "stdout",
     "output_type": "stream",
     "text": [
      "1\n",
      "2\n",
      "3\n",
      "4\n",
      "5\n",
      "6\n",
      "7\n",
      "8\n",
      "9\n",
      "10\n"
     ]
    }
   ],
   "source": [
    "\n",
    "def number():\n",
    "    for i in range(1,11):\n",
    "        print (i)\n",
    "number()"
   ]
  },
  {
   "cell_type": "code",
   "execution_count": 48,
   "id": "5ec9c4ca",
   "metadata": {},
   "outputs": [
    {
     "data": {
      "text/plain": [
       "[1, 2, 3, 4, 5]"
      ]
     },
     "execution_count": 48,
     "metadata": {},
     "output_type": "execute_result"
    }
   ],
   "source": [
    "def numbers(no):\n",
    "\n",
    "    for i in no:\n",
    "        return no\n",
    "numbers([1,2,3,4,5])\n"
   ]
  },
  {
   "cell_type": "code",
   "execution_count": 54,
   "id": "315e842d",
   "metadata": {},
   "outputs": [
    {
     "name": "stdout",
     "output_type": "stream",
     "text": [
      "odd number\n",
      "even number\n",
      "odd number\n",
      "even number\n",
      "odd number\n",
      "even number\n",
      "odd number\n",
      "even number\n",
      "odd number\n",
      "even number\n",
      "odd number\n",
      "even number\n",
      "odd number\n",
      "even number\n",
      "odd number\n",
      "even number\n",
      "odd number\n",
      "even number\n",
      "odd number\n",
      "even number\n"
     ]
    }
   ],
   "source": [
    "def even_numbers():\n",
    "    \n",
    "    for i in range(1,21):\n",
    "        if i % 2 ==0 :\n",
    "           print (\"even number\")\n",
    "        else :\n",
    "            print (\"odd number\")\n",
    "\n",
    "even_numbers()"
   ]
  },
  {
   "cell_type": "code",
   "execution_count": 75,
   "id": "03e0ed72",
   "metadata": {},
   "outputs": [
    {
     "name": "stdout",
     "output_type": "stream",
     "text": [
      "1\n",
      "4\n",
      "9\n",
      "16\n",
      "25\n"
     ]
    }
   ],
   "source": [
    "def square_number():\n",
    "   for i in range (1,6):\n",
    "      s= i**2\n",
    "      print(s)\n",
    "square_number()"
   ]
  },
  {
   "cell_type": "code",
   "execution_count": 77,
   "id": "534457e7",
   "metadata": {},
   "outputs": [
    {
     "name": "stdout",
     "output_type": "stream",
     "text": [
      "n\n",
      "i\n",
      "m\n",
      "i\n",
      "s\n",
      "h\n",
      "a\n"
     ]
    }
   ],
   "source": [
    "def character(word):\n",
    "    for i in word:\n",
    "        print(i)\n",
    "character(\"nimisha\")\n"
   ]
  },
  {
   "cell_type": "code",
   "execution_count": null,
   "id": "746c1750",
   "metadata": {},
   "outputs": [
    {
     "data": {
      "text/plain": [
       "15"
      ]
     },
     "execution_count": 79,
     "metadata": {},
     "output_type": "execute_result"
    }
   ],
   "source": [
    "def sum_numbers(no):\n",
    "    summ = 0\n",
    "    for i in no:\n",
    "        summ = summ + i\n",
    "    return summ\n",
    "sum_numbers([1,2,3,4,5])\n",
    "\n"
   ]
  },
  {
   "cell_type": "code",
   "execution_count": 103,
   "id": "00c609e1",
   "metadata": {},
   "outputs": [
    {
     "data": {
      "text/plain": [
       "[5, 10, 15, 20, 25, 30, 35, 40, 45, 50]"
      ]
     },
     "execution_count": 103,
     "metadata": {},
     "output_type": "execute_result"
    }
   ],
   "source": [
    "def multiply():\n",
    "    lst = []\n",
    "    for i in range(1,11):\n",
    "        s = 5 * i\n",
    "        lst.append(s)\n",
    "    return lst \n",
    "    \n",
    "multiply()\n",
    "     \n",
    "    "
   ]
  },
  {
   "cell_type": "code",
   "execution_count": null,
   "id": "b5981fca",
   "metadata": {},
   "outputs": [
    {
     "data": {
      "text/plain": [
       "5"
      ]
     },
     "execution_count": 1,
     "metadata": {},
     "output_type": "execute_result"
    }
   ],
   "source": [
    "# def add(a,b):\n",
    "#     c=a+b\n",
    "#     return c\n",
    "# add(2,3)"
   ]
  },
  {
   "cell_type": "code",
   "execution_count": 2,
   "id": "fea9d128",
   "metadata": {},
   "outputs": [
    {
     "data": {
      "text/plain": [
       "6"
      ]
     },
     "execution_count": 2,
     "metadata": {},
     "output_type": "execute_result"
    }
   ],
   "source": [
    "def add(a=2,b=4):\n",
    "    c=a+b\n",
    "    return c\n",
    "add()"
   ]
  },
  {
   "cell_type": "code",
   "execution_count": 9,
   "id": "668f83fb",
   "metadata": {},
   "outputs": [
    {
     "ename": "RecursionError",
     "evalue": "maximum recursion depth exceeded",
     "output_type": "error",
     "traceback": [
      "\u001b[31m---------------------------------------------------------------------------\u001b[39m",
      "\u001b[31mRecursionError\u001b[39m                            Traceback (most recent call last)",
      "\u001b[36mCell\u001b[39m\u001b[36m \u001b[39m\u001b[32mIn[9]\u001b[39m\u001b[32m, line 6\u001b[39m\n\u001b[32m      4\u001b[39m     \u001b[38;5;28;01mfor\u001b[39;00m item \u001b[38;5;129;01min\u001b[39;00m \u001b[38;5;28mlist\u001b[39m:\n\u001b[32m      5\u001b[39m         \u001b[38;5;28mprint\u001b[39m(item)\n\u001b[32m----> \u001b[39m\u001b[32m6\u001b[39m \u001b[43mprint_list\u001b[49m\u001b[43m(\u001b[49m\u001b[43mcities\u001b[49m\u001b[43m)\u001b[49m\n",
      "\u001b[36mCell\u001b[39m\u001b[36m \u001b[39m\u001b[32mIn[9]\u001b[39m\u001b[32m, line 5\u001b[39m, in \u001b[36mprint_list\u001b[39m\u001b[34m(list)\u001b[39m\n\u001b[32m      3\u001b[39m \u001b[38;5;28;01mdef\u001b[39;00m\u001b[38;5;250m \u001b[39m\u001b[34mprint_list\u001b[39m(\u001b[38;5;28mlist\u001b[39m):\n\u001b[32m      4\u001b[39m     \u001b[38;5;28;01mfor\u001b[39;00m item \u001b[38;5;129;01min\u001b[39;00m \u001b[38;5;28mlist\u001b[39m:\n\u001b[32m----> \u001b[39m\u001b[32m5\u001b[39m         \u001b[38;5;28;43mprint\u001b[39;49m\u001b[43m(\u001b[49m\u001b[43mitem\u001b[49m\u001b[43m)\u001b[49m\n",
      "\u001b[36mCell\u001b[39m\u001b[36m \u001b[39m\u001b[32mIn[5]\u001b[39m\u001b[32m, line 4\u001b[39m, in \u001b[36mprint\u001b[39m\u001b[34m(list)\u001b[39m\n\u001b[32m      3\u001b[39m \u001b[38;5;28;01mdef\u001b[39;00m\u001b[38;5;250m \u001b[39m\u001b[34mprint\u001b[39m(\u001b[38;5;28mlist\u001b[39m):\n\u001b[32m----> \u001b[39m\u001b[32m4\u001b[39m     \u001b[38;5;28;43mprint\u001b[39;49m\u001b[43m(\u001b[49m\u001b[38;5;28;43mlist\u001b[39;49m\u001b[43m)\u001b[49m\n\u001b[32m      5\u001b[39m     \u001b[38;5;28mprint\u001b[39m(names)\n",
      "\u001b[36mCell\u001b[39m\u001b[36m \u001b[39m\u001b[32mIn[5]\u001b[39m\u001b[32m, line 4\u001b[39m, in \u001b[36mprint\u001b[39m\u001b[34m(list)\u001b[39m\n\u001b[32m      3\u001b[39m \u001b[38;5;28;01mdef\u001b[39;00m\u001b[38;5;250m \u001b[39m\u001b[34mprint\u001b[39m(\u001b[38;5;28mlist\u001b[39m):\n\u001b[32m----> \u001b[39m\u001b[32m4\u001b[39m     \u001b[38;5;28;43mprint\u001b[39;49m\u001b[43m(\u001b[49m\u001b[38;5;28;43mlist\u001b[39;49m\u001b[43m)\u001b[49m\n\u001b[32m      5\u001b[39m     \u001b[38;5;28mprint\u001b[39m(names)\n",
      "    \u001b[31m[... skipping similar frames: print at line 4 (2973 times)]\u001b[39m\n",
      "\u001b[36mCell\u001b[39m\u001b[36m \u001b[39m\u001b[32mIn[5]\u001b[39m\u001b[32m, line 4\u001b[39m, in \u001b[36mprint\u001b[39m\u001b[34m(list)\u001b[39m\n\u001b[32m      3\u001b[39m \u001b[38;5;28;01mdef\u001b[39;00m\u001b[38;5;250m \u001b[39m\u001b[34mprint\u001b[39m(\u001b[38;5;28mlist\u001b[39m):\n\u001b[32m----> \u001b[39m\u001b[32m4\u001b[39m     \u001b[38;5;28;43mprint\u001b[39;49m\u001b[43m(\u001b[49m\u001b[38;5;28;43mlist\u001b[39;49m\u001b[43m)\u001b[49m\n\u001b[32m      5\u001b[39m     \u001b[38;5;28mprint\u001b[39m(names)\n",
      "\u001b[31mRecursionError\u001b[39m: maximum recursion depth exceeded"
     ]
    }
   ],
   "source": [
    "cities =[\"bhopal\" ,\"bine\",\"vidisha\"]\n",
    "names =[\"abc\",\"fggg\",\"dhhhb\"]\n",
    "def print_list(list):\n",
    "    for item in list:\n",
    "        print(item)\n",
    "print_list(cities)\n",
    "\n"
   ]
  },
  {
   "cell_type": "code",
   "execution_count": 10,
   "id": "b9768870",
   "metadata": {},
   "outputs": [
    {
     "data": {
      "text/plain": [
       "9"
      ]
     },
     "execution_count": 10,
     "metadata": {},
     "output_type": "execute_result"
    }
   ],
   "source": [
    "def sum(a,b):\n",
    "    c = a+b\n",
    "    return c\n",
    "sum(4,5)\n"
   ]
  },
  {
   "cell_type": "code",
   "execution_count": null,
   "id": "ad54be53",
   "metadata": {},
   "outputs": [
    {
     "ename": "SyntaxError",
     "evalue": "invalid syntax (398008762.py, line 1)",
     "output_type": "error",
     "traceback": [
      "  \u001b[36mCell\u001b[39m\u001b[36m \u001b[39m\u001b[32mIn[11]\u001b[39m\u001b[32m, line 1\u001b[39m\n\u001b[31m    \u001b[39m\u001b[31mpython -c \"import distutils\"\u001b[39m\n              ^\n\u001b[31mSyntaxError\u001b[39m\u001b[31m:\u001b[39m invalid syntax\n"
     ]
    }
   ],
   "source": [
    "python -c \"import distutils\"\n",
    "pip install distutils"
   ]
  }
 ],
 "metadata": {
  "kernelspec": {
   "display_name": "Test",
   "language": "python",
   "name": "python3"
  },
  "language_info": {
   "codemirror_mode": {
    "name": "ipython",
    "version": 3
   },
   "file_extension": ".py",
   "mimetype": "text/x-python",
   "name": "python",
   "nbconvert_exporter": "python",
   "pygments_lexer": "ipython3",
   "version": "undefined.undefined.undefined"
  }
 },
 "nbformat": 4,
 "nbformat_minor": 5
}
